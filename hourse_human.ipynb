{
 "cells": [
  {
   "cell_type": "code",
   "execution_count": null,
   "metadata": {
    "colab": {
     "background_save": true,
     "base_uri": "https://localhost:8080/"
    },
    "id": "sxmlG-dVBOf-",
    "outputId": "249189dd-316b-4719-c166-70d404cf1f3d"
   },
   "outputs": [
    {
     "name": "stdout",
     "output_type": "stream",
     "text": [
      "Found 1027 images belonging to 2 classes.\n",
      "Found 256 images belonging to 2 classes.\n"
     ]
    },
    {
     "name": "stderr",
     "output_type": "stream",
     "text": [
      "/usr/local/lib/python3.7/dist-packages/keras/optimizer_v2/rmsprop.py:130: UserWarning: The `lr` argument is deprecated, use `learning_rate` instead.\n",
      "  super(RMSprop, self).__init__(name, **kwargs)\n"
     ]
    },
    {
     "name": "stdout",
     "output_type": "stream",
     "text": [
      "Epoch 1/15\n",
      "8/8 [==============================] - 91s 10s/step - loss: 10.1131 - accuracy: 0.5528 - val_loss: 0.5956 - val_accuracy: 0.6367\n",
      "Epoch 2/15\n",
      "8/8 [==============================] - 83s 10s/step - loss: 0.8625 - accuracy: 0.7008 - val_loss: 0.5587 - val_accuracy: 0.6953\n",
      "Epoch 3/15\n",
      "8/8 [==============================] - 83s 10s/step - loss: 0.4275 - accuracy: 0.7809 - val_loss: 2.0062 - val_accuracy: 0.6562\n",
      "Epoch 4/15\n",
      "8/8 [==============================] - 83s 10s/step - loss: 0.5875 - accuracy: 0.7964 - val_loss: 0.7439 - val_accuracy: 0.7656\n",
      "Epoch 5/15\n",
      "8/8 [==============================] - 83s 12s/step - loss: 0.4820 - accuracy: 0.8487 - val_loss: 0.7418 - val_accuracy: 0.8125\n",
      "Epoch 6/15\n",
      "8/8 [==============================] - 86s 11s/step - loss: 0.1542 - accuracy: 0.9488 - val_loss: 1.3285 - val_accuracy: 0.7930\n",
      "Epoch 7/15\n",
      "8/8 [==============================] - 89s 11s/step - loss: 0.0764 - accuracy: 0.9711 - val_loss: 1.4086 - val_accuracy: 0.8438\n",
      "Epoch 8/15\n",
      "8/8 [==============================] - 83s 10s/step - loss: 0.0451 - accuracy: 0.9878 - val_loss: 3.8639 - val_accuracy: 0.6055\n",
      "Epoch 9/15\n",
      "8/8 [==============================] - 84s 10s/step - loss: 0.0449 - accuracy: 0.9833 - val_loss: 1.5591 - val_accuracy: 0.8398\n",
      "Epoch 10/15\n",
      "8/8 [==============================] - 84s 10s/step - loss: 0.0076 - accuracy: 0.9989 - val_loss: 1.9360 - val_accuracy: 0.8164\n",
      "Epoch 11/15\n",
      "8/8 [==============================] - 96s 12s/step - loss: 0.0020 - accuracy: 1.0000 - val_loss: 2.3047 - val_accuracy: 0.8203\n",
      "Epoch 12/15\n",
      "8/8 [==============================] - 83s 12s/step - loss: 6.1691e-04 - accuracy: 1.0000 - val_loss: 2.7418 - val_accuracy: 0.7930\n",
      "Epoch 13/15\n",
      "8/8 [==============================] - 84s 10s/step - loss: 3.8506e-04 - accuracy: 1.0000 - val_loss: 3.1737 - val_accuracy: 0.7812\n",
      "Epoch 14/15\n",
      "8/8 [==============================] - 83s 12s/step - loss: 0.8228 - accuracy: 0.8532 - val_loss: 1.8469 - val_accuracy: 0.6758\n",
      "Epoch 15/15\n",
      "8/8 [==============================] - 83s 10s/step - loss: 0.0502 - accuracy: 0.9889 - val_loss: 2.6000 - val_accuracy: 0.7227\n"
     ]
    }
   ],
   "source": [
    "\n",
    "#\n",
    "# Computer vision with CNNs\n",
    "#\n",
    "#\n",
    "# The test will use images that are 300x300 with 3 bytes color depth so be sure to\n",
    "import urllib\n",
    "\n",
    "import tensorflow as tf\n",
    "import os\n",
    "import zipfile\n",
    "from tensorflow.keras.optimizers import RMSprop\n",
    "\n",
    "from keras_preprocessing.image import ImageDataGenerator\n",
    "\n",
    "\n",
    "def solution_model():\n",
    "    _TRAIN_URL = \"https://storage.googleapis.com/download.tensorflow.org/data/horse-or-human.zip\"\n",
    "    _TEST_URL = \"https://storage.googleapis.com/download.tensorflow.org/data/validation-horse-or-human.zip\"\n",
    "    urllib.request.urlretrieve(_TRAIN_URL, 'horse-or-human.zip')\n",
    "    local_zip = 'horse-or-human.zip'\n",
    "    zip_ref = zipfile.ZipFile(local_zip, 'r')\n",
    "    zip_ref.extractall('C:/Users/HP/Downloads/horse-or-human/')\n",
    "    zip_ref.close()\n",
    "    urllib.request.urlretrieve(_TEST_URL, 'testdata.zip')\n",
    "    local_zip = 'testdata.zip'\n",
    "    zip_ref = zipfile.ZipFile(local_zip, 'r')\n",
    "    zip_ref.extractall('C:/Users/HP/Downloads/testdata/')\n",
    "    zip_ref.close()\n",
    "\n",
    "\n",
    "    train_datagen = ImageDataGenerator(rescale=1 / 255)\n",
    "    # Your code here. Should at least have a rescale. Other parameters can help with overfitting.)\n",
    "\n",
    "    validation_datagen = ImageDataGenerator(rescale=1/ 255)\n",
    "\n",
    "    train_generator = train_datagen.flow_from_directory('C:/Users/HP/Downloads/horse-or-human/',  # This is the source directory for training images\n",
    "        target_size=(300, 300),  # All images will be resized to 150x150\n",
    "        batch_size=128,\n",
    "        # Since we use binary_crossentropy loss, we need binary labels\n",
    "        class_mode='binary')\n",
    "    # Your Code Here)\n",
    "\n",
    "    validation_generator = validation_datagen.flow_from_directory(\n",
    "        'C:/Users/HP/Downloads/testdata/',  # This is the source directory for training images\n",
    "        target_size=(300, 300),  # All images will be resized to 150x150\n",
    "        batch_size=32,\n",
    "        # Since we use binary_crossentropy loss, we need binary labels\n",
    "        class_mode='binary')\n",
    "    # Your Code Here)\n",
    "\n",
    "    model = tf.keras.models.Sequential([\n",
    "    tf.keras.layers.Conv2D(16, (3,3), activation='relu', input_shape=(300, 300, 3)),\n",
    "    tf.keras.layers.MaxPooling2D(2, 2),\n",
    "    # The second convolution\n",
    "    tf.keras.layers.Conv2D(32, (3,3), activation='relu'),\n",
    "    tf.keras.layers.MaxPooling2D(2,2),\n",
    "    # The third convolution\n",
    "    tf.keras.layers.Conv2D(64, (3,3), activation='relu'),\n",
    "    tf.keras.layers.MaxPooling2D(2,2),\n",
    "\n",
    "\n",
    "    # Flatten the results to feed into a DNN\n",
    "    tf.keras.layers.Flatten(),\n",
    "    # 512 neuron hidden layer\n",
    "    tf.keras.layers.Dense(512, activation='relu'),\n",
    "    # Only 1 output neuron. It will contain a value from 0-1 where 0 for 1 class ('horses') and 1 for the other ('humans')\n",
    "    tf.keras.layers.Dense(1, activation='sigmoid')\n",
    "    ])\n",
    "    model.compile(loss='binary_crossentropy',\n",
    "                  optimizer=RMSprop(lr=0.001),\n",
    "                  metrics=['accuracy'])\n",
    "\n",
    "    model.fit(train_generator,\n",
    "              steps_per_epoch=8,  # 2000 images = batch_size * steps\n",
    "              epochs=15,\n",
    "              validation_data=validation_generator,\n",
    "              validation_steps=8,  # 1000 images = batch_size * steps\n",
    "              verbose=1)\n",
    "\n",
    "    return model\n",
    "\n",
    "\n",
    "\n",
    "\n",
    "if __name__ == '__main__':\n",
    "    model = solution_model()\n",
    "    model.save(\"mymodel.h5\")\n"
   ]
  },
  {
   "cell_type": "code",
   "execution_count": null,
   "metadata": {
    "id": "FWsC4hD2BP0T"
   },
   "outputs": [],
   "source": []
  }
 ],
 "metadata": {
  "colab": {
   "provenance": []
  },
  "kernelspec": {
   "display_name": "Python 3",
   "language": "python",
   "name": "python3"
  },
  "language_info": {
   "codemirror_mode": {
    "name": "ipython",
    "version": 3
   },
   "file_extension": ".py",
   "mimetype": "text/x-python",
   "name": "python",
   "nbconvert_exporter": "python",
   "pygments_lexer": "ipython3",
   "version": "3.8.8"
  }
 },
 "nbformat": 4,
 "nbformat_minor": 1
}
